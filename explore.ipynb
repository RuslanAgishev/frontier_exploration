{
 "cells": [
  {
   "cell_type": "code",
   "execution_count": 1,
   "metadata": {},
   "outputs": [],
   "source": [
    "import numpy as np\n",
    "import open3d as o3d\n",
    "%matplotlib inline"
   ]
  },
  {
   "cell_type": "code",
   "execution_count": 2,
   "metadata": {},
   "outputs": [],
   "source": [
    "pc = np.load('/home/ruslan/Documents/CTU/pts/cam_pts_1606650927.700213.npz')\n",
    "pts = pc['pts'].transpose()"
   ]
  },
  {
   "cell_type": "code",
   "execution_count": 3,
   "metadata": {},
   "outputs": [],
   "source": [
    "pcd = o3d.geometry.PointCloud()\n",
    "pcd.points = o3d.utility.Vector3dVector(pts)"
   ]
  },
  {
   "cell_type": "code",
   "execution_count": 9,
   "metadata": {},
   "outputs": [],
   "source": [
    "o3d.visualization.draw_geometries([pcd])"
   ]
  },
  {
   "cell_type": "code",
   "execution_count": 5,
   "metadata": {},
   "outputs": [],
   "source": [
    "diameter = np.linalg.norm(\n",
    "    np.asarray(pcd.get_max_bound()) - np.asarray(pcd.get_min_bound()))"
   ]
  },
  {
   "cell_type": "code",
   "execution_count": 6,
   "metadata": {},
   "outputs": [
    {
     "data": {
      "text/plain": [
       "11.626893214806419"
      ]
     },
     "execution_count": 6,
     "metadata": {},
     "output_type": "execute_result"
    }
   ],
   "source": [
    "diameter"
   ]
  },
  {
   "cell_type": "code",
   "execution_count": 7,
   "metadata": {},
   "outputs": [
    {
     "name": "stdout",
     "output_type": "stream",
     "text": [
      "Define parameters used for hidden_point_removal\n",
      "Get all points that are visible from given view point\n",
      "Visualize result\n"
     ]
    }
   ],
   "source": [
    "print(\"Define parameters used for hidden_point_removal\")\n",
    "camera = [0, 0, diameter]\n",
    "radius = diameter * 100\n",
    "\n",
    "print(\"Get all points that are visible from given view point\")\n",
    "_, pt_map = pcd.hidden_point_removal(camera, radius)\n",
    "\n",
    "print(\"Visualize result\")\n",
    "pcd_res = pcd.select_by_index(pt_map)\n",
    "o3d.visualization.draw_geometries([pcd_res])"
   ]
  }
 ],
 "metadata": {
  "kernelspec": {
   "display_name": "Python 3",
   "language": "python",
   "name": "python3"
  },
  "language_info": {
   "codemirror_mode": {
    "name": "ipython",
    "version": 3
   },
   "file_extension": ".py",
   "mimetype": "text/x-python",
   "name": "python",
   "nbconvert_exporter": "python",
   "pygments_lexer": "ipython3",
   "version": "3.6.10"
  }
 },
 "nbformat": 4,
 "nbformat_minor": 4
}
