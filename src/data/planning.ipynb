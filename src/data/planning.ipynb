{
 "cells": [
  {
   "cell_type": "code",
   "execution_count": 16,
   "metadata": {},
   "outputs": [],
   "source": [
    "import numpy as np\n",
    "import matplotlib.pyplot as plt\n",
    "np.set_printoptions(precision=2)"
   ]
  },
  {
   "cell_type": "code",
   "execution_count": 17,
   "metadata": {},
   "outputs": [
    {
     "name": "stdout",
     "output_type": "stream",
     "text": [
      "Robot pose: [9.46 4.04 0.11]\n",
      "Z_min: -0.057979509234428406 Z_max: 0.8241029977798462\n"
     ]
    }
   ],
   "source": [
    "# read data\n",
    "elev_map = np.load('elev_map1588500739.6.npy')\n",
    "dynamic_pc = np.load('dynamic_pc1588500739.6.npy')\n",
    "robot_pose = np.load('robot_pose1588500739.61.npy')\n",
    "# elev_map = dynamic_pc\n",
    "\n",
    "X = elev_map[:,0]\n",
    "Y = elev_map[:,1]\n",
    "Z = elev_map[:,2]\n",
    "rgb = elev_map[:,3]\n",
    "\n",
    "print('Robot pose:', robot_pose)\n",
    "print('Z_min:', np.min(Z), 'Z_max:', np.max(Z))"
   ]
  },
  {
   "cell_type": "code",
   "execution_count": 18,
   "metadata": {},
   "outputs": [
    {
     "name": "stdout",
     "output_type": "stream",
     "text": [
      "8.687656727272957e-39 2.1170518230205614e-38\n"
     ]
    },
    {
     "data": {
      "image/png": "[encoded data removed]",
      "text/plain": [
       "<Figure size 576x504 with 1 Axes>"
      ]
     },
     "metadata": {
      "needs_background": "light"
     },
     "output_type": "display_data"
    }
   ],
   "source": [
    "# define traversable height margin\n",
    "margin = 0.3\n",
    "print(np.mean(rgb[Z<=margin]), np.mean(rgb[Z>margin]))\n",
    "\n",
    "plt.figure(figsize=(int(np.max(X)-np.min(X)), int(np.max(Y)-np.min(Y))))\n",
    "plt.plot(X[Z<=margin], Y[Z<=margin], 's', color='green', label='traversable')\n",
    "plt.plot(X[Z>margin], Y[Z>margin], 's', color='red', label='obstacles')\n",
    "plt.plot(robot_pose[0], robot_pose[1], 'ro', color='b', markersize=10, label='robot')\n",
    "\n",
    "plt.title('Height margin = %.2f'%margin)\n",
    "plt.xlabel('X')\n",
    "plt.ylabel('Y')\n",
    "plt.legend()\n",
    "plt.grid()"
   ]
  },
  {
   "cell_type": "markdown",
   "metadata": {},
   "source": [
    "### Create occupancy grid"
   ]
  },
  {
   "cell_type": "code",
   "execution_count": 19,
   "metadata": {},
   "outputs": [],
   "source": [
    "def create_grid(elev_map, map_res=0.15, safety_distance=0.):\n",
    "    # minimum and maximum north coordinates\n",
    "    y_min = np.min(elev_map[:, 1])\n",
    "    y_max = np.max(elev_map[:, 1])\n",
    "\n",
    "    # minimum and maximum east coordinates\n",
    "    x_min = np.min(elev_map[:, 0])\n",
    "    x_max = np.max(elev_map[:, 0])\n",
    "\n",
    "    # given the minimum and maximum coordinates we can\n",
    "    # calculate the size of the grid.\n",
    "    y_size = int((y_max - y_min)//map_res)\n",
    "    x_size = int((x_max - x_min)//map_res)\n",
    "\n",
    "    # Initialize an unexplored grid\n",
    "    # unexplored: -1\n",
    "    # free:        0\n",
    "    # occupied:    1\n",
    "    grid = np.zeros((x_size, y_size)) - 1\n",
    "    elev_grid  = np.zeros((x_size, y_size)) - 1\n",
    "\n",
    "    # Populate the grid with obstacles\n",
    "    for i in range(elev_map.shape[0]):\n",
    "        x, y, z, _ = elev_map[i, :]\n",
    "        dx, dy, dz = map_res, map_res, map_res\n",
    "        sd = safety_distance * (z > margin) # safety distance is added to points treated as obstacles\n",
    "        obstacle = [\n",
    "            int(np.clip((x - dx - sd - x_min)//dx, 0, x_size-1)),\n",
    "            int(np.clip((x + dx + sd - x_min)//dx, 0, x_size-1)),\n",
    "            int(np.clip((y - dy - sd - y_min)//dy, 0, y_size-1)),\n",
    "            int(np.clip((y + dy + sd - y_min)//dy, 0, y_size-1)),\n",
    "        ]\n",
    "        grid[obstacle[0]:obstacle[1]+1, obstacle[2]:obstacle[3]+1] = z > margin\n",
    "        elev_grid[obstacle[0]:obstacle[1]+1, obstacle[2]:obstacle[3]+1] = z\n",
    "    return grid, elev_grid"
   ]
  },
  {
   "cell_type": "code",
   "execution_count": 20,
   "metadata": {},
   "outputs": [
    {
     "data": {
      "text/plain": [
       "[<matplotlib.lines.Line2D at 0x7fb24ca894e0>]"
      ]
     },
     "execution_count": 20,
     "metadata": {},
     "output_type": "execute_result"
    },
    {
     "data": {
      "image/png": "[encoded data removed]",
      "text/plain": [
       "<Figure size 432x288 with 1 Axes>"
      ]
     },
     "metadata": {
      "needs_background": "light"
     },
     "output_type": "display_data"
    }
   ],
   "source": [
    "# minimum and maximum east coordinates\n",
    "x_min = np.min(elev_map[:, 0])\n",
    "x_max = np.max(elev_map[:, 0])\n",
    "# minimum and maximum north coordinates\n",
    "y_min = np.min(elev_map[:, 1])\n",
    "y_max = np.max(elev_map[:, 1])\n",
    "map_res = 0.15\n",
    "\n",
    "grid, elev_grid = create_grid(elev_map, map_res, safety_distance=0.1)\n",
    "robot_grid_pose = (robot_pose - [x_min, y_min, 0]) // map_res\n",
    "\n",
    "plt.imshow(grid, cmap='gray')\n",
    "plt.plot(robot_grid_pose[1], robot_grid_pose[0], 'v', markersize=10)"
   ]
  },
  {
   "cell_type": "markdown",
   "metadata": {},
   "source": [
    "### A* planning on a grid"
   ]
  },
  {
   "cell_type": "code",
   "execution_count": 21,
   "metadata": {},
   "outputs": [],
   "source": [
    "from queue import PriorityQueue\n",
    "from enum import Enum"
   ]
  },
  {
   "cell_type": "code",
   "execution_count": 22,
   "metadata": {},
   "outputs": [],
   "source": [
    "class Action(Enum):\n",
    "    \"\"\"\n",
    "    An action is represented by a 3 element tuple.\n",
    "    \n",
    "    The first 2 values are the delta of the action relative\n",
    "    to the current grid position. The third and final value\n",
    "    is the cost of performing the action.\n",
    "    \"\"\"\n",
    "    LEFT = (0, -1, 1)\n",
    "    RIGHT = (0, 1, 1)\n",
    "    UP = (-1, 0, 1)\n",
    "    DOWN = (1, 0, 1)\n",
    "    LEFT_UP = (-1, -1, 1)\n",
    "    LEFT_DOWN = (1, -1, 1)\n",
    "    RIGHT_UP = (-1, 1, 1)\n",
    "    RIGHT_DOWN = (1, 1, 1)\n",
    "    \n",
    "    @property\n",
    "    def cost(self):\n",
    "        return self.value[2]\n",
    "    \n",
    "    @property\n",
    "    def delta(self):\n",
    "        return (self.value[0], self.value[1])\n",
    "            \n",
    "    \n",
    "def valid_actions(grid, current_node):\n",
    "    \"\"\"\n",
    "    Returns a list of valid actions given a grid and current node.\n",
    "    \"\"\"\n",
    "    valid = list(Action)\n",
    "    n, m = grid.shape[0] - 1, grid.shape[1] - 1\n",
    "    x, y = current_node\n",
    "    \n",
    "    # check if the node is off the grid or\n",
    "    # it's an obstacle\n",
    "    \n",
    "    if x - 1 < 0 or grid[x-1, y] == 1:\n",
    "        valid.remove(Action.UP)\n",
    "    if x + 1 > n or grid[x+1, y] == 1:\n",
    "        valid.remove(Action.DOWN)\n",
    "    if y - 1 < 0 or grid[x, y-1] == 1:\n",
    "        valid.remove(Action.LEFT)\n",
    "    if y + 1 > m or grid[x, y+1] == 1:\n",
    "        valid.remove(Action.RIGHT)\n",
    "        \n",
    "    if (x - 1 < 0 or y - 1 < 0) or grid[x - 1, y - 1] == 1:\n",
    "        valid.remove(Action.LEFT_UP)\n",
    "    if (x - 1 < 0 or y + 1 > m) or grid[x - 1, y + 1] == 1:\n",
    "        valid.remove(Action.RIGHT_UP)\n",
    "    if (x + 1 > n or y - 1 < 0) or grid[x + 1, y - 1] == 1:\n",
    "        valid.remove(Action.LEFT_DOWN)\n",
    "    if (x + 1 > n or y + 1 > m) or grid[x + 1, y + 1] == 1:\n",
    "        valid.remove(Action.RIGHT_DOWN)\n",
    "        \n",
    "    return valid"
   ]
  },
  {
   "cell_type": "code",
   "execution_count": 23,
   "metadata": {},
   "outputs": [],
   "source": [
    "def heuristic(p, goal, mode='euclid'):\n",
    "    p = np.array(p); goal = np.array(goal)\n",
    "    if mode=='euclid':\n",
    "        h = np.sqrt( (p[0] - goal[0])**2 + (p[1]-goal[1])**2 )\n",
    "    elif mode=='manhattan':\n",
    "        h = np.abs(p[0] - goal[0]) + np.abs(p[1]-goal[1])\n",
    "    else:\n",
    "        h = np.linalg.norm(p - goal)\n",
    "    return h"
   ]
  },
  {
   "cell_type": "code",
   "execution_count": 24,
   "metadata": {},
   "outputs": [],
   "source": [
    "def a_star(grid, h, start, goal):\n",
    "\n",
    "    path = []\n",
    "    path_cost = 0\n",
    "    queue = PriorityQueue()\n",
    "    queue.put((0, start))\n",
    "    visited = set(start)\n",
    "\n",
    "    branch = {}\n",
    "    found = False\n",
    "    while not queue.empty():\n",
    "        item = queue.get()\n",
    "        current_node = item[1]\n",
    "\n",
    "        if current_node == start:\n",
    "            current_cost = 0.0\n",
    "        else:              \n",
    "            current_cost = branch[current_node][0]\n",
    "            \n",
    "        if current_node == goal:        \n",
    "            print('Found a path.')\n",
    "            found = True\n",
    "            break\n",
    "        else:\n",
    "            for action in valid_actions(grid, current_node):\n",
    "                # get the tuple representation\n",
    "                da = action.delta\n",
    "                next_node = (current_node[0] + da[0], current_node[1] + da[1])\n",
    "                branch_cost = current_cost + action.cost\n",
    "                queue_cost = branch_cost + h(next_node, goal)\n",
    "                \n",
    "                if next_node not in visited:                \n",
    "                    visited.add(next_node)               \n",
    "                    branch[next_node] = (branch_cost, current_node, action)\n",
    "                    queue.put((queue_cost, next_node))\n",
    "             \n",
    "    if found:\n",
    "        # retrace steps\n",
    "        n = goal\n",
    "        path_cost = branch[n][0]\n",
    "        path.append(goal)\n",
    "        while branch[n][1] != start:\n",
    "            path.append(branch[n][1])\n",
    "            n = branch[n][1]\n",
    "        path.append(branch[n][1])\n",
    "    else:\n",
    "        print('**********************')\n",
    "        print('Failed to find a path!')\n",
    "        print('**********************') \n",
    "    return path[::-1], path_cost"
   ]
  },
  {
   "cell_type": "code",
   "execution_count": 25,
   "metadata": {},
   "outputs": [
    {
     "name": "stdout",
     "output_type": "stream",
     "text": [
      "Found a path.\n"
     ]
    },
    {
     "data": {
      "image/png": "[encoded data removed]",
      "text/plain": [
       "<Figure size 432x288 with 1 Axes>"
      ]
     },
     "metadata": {
      "needs_background": "light"
     },
     "output_type": "display_data"
    }
   ],
   "source": [
    "start_grid = (int(robot_grid_pose[0]), int(robot_grid_pose[1]))\n",
    "# choose random goal location\n",
    "while True:\n",
    "    i,j = np.random.randint(0, grid.shape[0]), np.random.randint(0, grid.shape[1])\n",
    "    if grid[i,j] != 1:\n",
    "        goal_grid = (i,j)\n",
    "        break\n",
    "\n",
    "path_grid, cost = a_star(grid, heuristic, start_grid, goal_grid)\n",
    "\n",
    "pp = np.array(path_grid)\n",
    "plt.imshow(grid, cmap='gray')\n",
    "plt.plot(start_grid[1], start_grid[0], 'v', markersize=10)\n",
    "plt.plot(goal_grid[1], goal_grid[0], 'ro', markersize=10)\n",
    "if len(path_grid)>0: plt.plot(pp[:, 1], pp[:, 0], 'g', linewidth=4)"
   ]
  },
  {
   "cell_type": "markdown",
   "metadata": {},
   "source": [
    "### Transform path to map coordinates"
   ]
  },
  {
   "cell_type": "code",
   "execution_count": 26,
   "metadata": {},
   "outputs": [],
   "source": [
    "path = [(np.array(point)*0.15+[x_min, y_min]).tolist()+[elev_grid[point]] for point in path_grid]\n",
    "path = np.array(path)"
   ]
  },
  {
   "cell_type": "code",
   "execution_count": 27,
   "metadata": {},
   "outputs": [
    {
     "data": {
      "image/png": "[encoded data removed]",
      "text/plain": [
       "<Figure size 576x504 with 1 Axes>"
      ]
     },
     "metadata": {
      "needs_background": "light"
     },
     "output_type": "display_data"
    }
   ],
   "source": [
    "plt.figure(figsize=(int(np.max(X)-np.min(X)), int(np.max(Y)-np.min(Y))))\n",
    "plt.plot(X[Z<=margin], Y[Z<=margin], 's', color='green', label='traversable', markersize=15)\n",
    "plt.plot(X[Z>margin], Y[Z>margin], 's', color='red', label='obstacles', markersize=15)\n",
    "plt.plot(robot_pose[0], robot_pose[1], 'ro', color='b', markersize=10, label='robot')\n",
    "if len(path)>0: plt.plot(path[:,0], path[:,1], linewidth=4)\n",
    "\n",
    "plt.title('Height margin = %.2f'%margin)\n",
    "plt.xlabel('X')\n",
    "plt.ylabel('Y')\n",
    "plt.legend()\n",
    "plt.grid()"
   ]
  },
  {
   "cell_type": "markdown",
   "metadata": {},
   "source": [
    "### Path prunning and smoothing"
   ]
  },
  {
   "cell_type": "code",
   "execution_count": 28,
   "metadata": {},
   "outputs": [],
   "source": [
    "def point(p):\n",
    "    return np.array([p[0], p[1], 1.]).reshape(1, -1)\n",
    "\n",
    "def collinearity_check(p1, p2, p3, epsilon=1e-6):\n",
    "    m = np.concatenate((p1, p2, p3), 0)\n",
    "    det = np.linalg.det(m)\n",
    "    return abs(det) < epsilon\n",
    "# using collinearity check here\n",
    "def prune_path(path, eps=1e-6):\n",
    "    pruned_path = path  \n",
    "    i = 0\n",
    "    while i < len(pruned_path) - 2:\n",
    "        p1 = point(pruned_path[i])\n",
    "        p2 = point(pruned_path[i+1])\n",
    "        p3 = point(pruned_path[i+2])\n",
    "        # If the 3 points are in a line remove\n",
    "        # the 2nd point.\n",
    "        # The 3rd point now becomes and 2nd point\n",
    "        # and the check is redone with a new third point\n",
    "        # on the next iteration.\n",
    "        if collinearity_check(p1, p2, p3, eps):\n",
    "            # Something subtle here but we can mutate\n",
    "            # `pruned_path` freely because the length\n",
    "            # of the list is check on every iteration.\n",
    "            pruned_path.remove(pruned_path[i+1])\n",
    "        else:\n",
    "            i += 1\n",
    "    return np.array(pruned_path)"
   ]
  },
  {
   "cell_type": "code",
   "execution_count": 29,
   "metadata": {},
   "outputs": [],
   "source": [
    "from scipy import interpolate\n",
    "\n",
    "def smooth_path(path, vis=False):\n",
    "    x, y = zip(*path[:,:2])\n",
    "    #create spline function\n",
    "    f, u = interpolate.splprep([x, y], s=0)\n",
    "    #create interpolated lists of points\n",
    "    xint, yint = interpolate.splev(np.linspace(0, 1, 50), f)\n",
    "    if vis:\n",
    "        plt.scatter(x, y)\n",
    "        plt.plot(xint, yint)\n",
    "    return np.vstack([xint, yint]).T"
   ]
  },
  {
   "cell_type": "code",
   "execution_count": 30,
   "metadata": {},
   "outputs": [
    {
     "data": {
      "image/png": "[encoded data removed]",
      "text/plain": [
       "<Figure size 432x288 with 1 Axes>"
      ]
     },
     "metadata": {
      "needs_background": "light"
     },
     "output_type": "display_data"
    }
   ],
   "source": [
    "path_smoothed = smooth_path(path, vis=True)"
   ]
  },
  {
   "cell_type": "markdown",
   "metadata": {},
   "source": [
    "### Put it all together"
   ]
  },
  {
   "cell_type": "code",
   "execution_count": 31,
   "metadata": {},
   "outputs": [
    {
     "name": "stdout",
     "output_type": "stream",
     "text": [
      "Found a path.\n",
      "Path planning took 0.14562535285949707 sec\n"
     ]
    },
    {
     "data": {
      "image/png": "[encoded data removed]",
      "text/plain": [
       "<Figure size 432x288 with 1 Axes>"
      ]
     },
     "metadata": {
      "needs_background": "light"
     },
     "output_type": "display_data"
    }
   ],
   "source": [
    "import time\n",
    "tic = time.time()\n",
    "grid, elev_grid = create_grid(elev_map, map_res=0.15, safety_distance=0.1)\n",
    "\n",
    "# define start on a grid\n",
    "robot_grid_pose = (robot_pose - [np.min(elev_map[:, 0]), np.min(elev_map[:, 1]), 0]) // map_res\n",
    "start_grid = (int(robot_grid_pose[0]), int(robot_grid_pose[1]))\n",
    "# choose random goal location\n",
    "while True:\n",
    "    i,j = np.random.randint(0, grid.shape[0]), np.random.randint(0, grid.shape[1])\n",
    "    if grid[i,j] != 1:\n",
    "        goal_grid = (i,j)\n",
    "        break\n",
    "\n",
    "path_grid, _ = a_star(grid, heuristic, start_grid, goal_grid)\n",
    "# transform path to map coordintes (m)\n",
    "path = [(np.array(point)*0.15+[x_min, y_min]).tolist()+[elev_grid[point]] for point in path_grid]\n",
    "if len(path)>0:\n",
    "    #path = prune_path(path, 1e-6)\n",
    "    path = smooth_path(np.array(path), vis=1)\n",
    "print('Path planning took {} sec'.format(time.time()-tic))"
   ]
  },
  {
   "cell_type": "code",
   "execution_count": 32,
   "metadata": {},
   "outputs": [
    {
     "data": {
      "image/png": "[encoded data removed]",
      "text/plain": [
       "<Figure size 576x504 with 1 Axes>"
      ]
     },
     "metadata": {
      "needs_background": "light"
     },
     "output_type": "display_data"
    }
   ],
   "source": [
    "# visualize everithing\n",
    "plt.figure(figsize=(int(np.max(X)-np.min(X)), int(np.max(Y)-np.min(Y))))\n",
    "plt.plot(X[Z<=margin], Y[Z<=margin], 's', color='green', label='traversable', markersize=15)\n",
    "plt.plot(X[Z>margin], Y[Z>margin], 's', color='red', label='obstacles', markersize=15)\n",
    "plt.plot(robot_pose[0], robot_pose[1], 'ro', color='b', markersize=10, label='robot')\n",
    "plt.plot(path[:,0], path[:,1], linewidth=4)\n",
    "\n",
    "plt.title('Height margin = %.2f'%margin)\n",
    "plt.xlabel('X')\n",
    "plt.ylabel('Y')\n",
    "plt.legend()\n",
    "plt.grid()"
   ]
  },
  {
   "cell_type": "markdown",
   "metadata": {},
   "source": [
    "### Breadth First Search to find nearest frontier to plan to"
   ]
  },
  {
   "cell_type": "code",
   "execution_count": 59,
   "metadata": {},
   "outputs": [],
   "source": [
    "from queue import Queue\n",
    "\n",
    "def breadth_first(grid, start):\n",
    "    q = Queue(); q.put(start)\n",
    "    visited = set(); visited.add(start)\n",
    "    branch = {}\n",
    "    found = False\n",
    "    \n",
    "    # Run loop while queue is not empty\n",
    "    while not q.empty():\n",
    "        # first element from the queue\n",
    "        current_node = q.get()\n",
    "        \n",
    "        # node corresponds to the goal state\n",
    "        # if current_node == goal:\n",
    "        if grid[current_node[0], current_node[1]] == -1: # if exploration is reached a frontier\n",
    "            print('Found a frontier.')\n",
    "            goal = current_node\n",
    "            found = True\n",
    "            break\n",
    "        else:\n",
    "            # Iterate through each of the new nodes and:\n",
    "            # If the node has not been visited you will need to\n",
    "            # 1. Mark it as visited\n",
    "            # 2. Add it to the queue\n",
    "            # 3. Add how you got there to the branch dictionary\n",
    "            valid = valid_actions(grid, current_node)\n",
    "\n",
    "            for action in valid:\n",
    "                # delta of performing the action\n",
    "                da = action.value\n",
    "                next_node = (current_node[0] + da[0], current_node[1] + da[1])\n",
    "                # Check if the new node has been visited before.\n",
    "                # If the node has not been visited you will need to\n",
    "                # 1. Mark it as visited\n",
    "                # 2. Add it to the queue\n",
    "                # 3. Add how you got there to branch\n",
    "                if next_node not in visited:                \n",
    "                    visited.add(next_node)               \n",
    "                    q.put(next_node)          \n",
    "                    branch[next_node] = (current_node, action) \n",
    "            \n",
    "    # Now, if you found a path, retrace your steps through \n",
    "    # the branch dictionary to find out how you got there!\n",
    "    path = []\n",
    "    if found:\n",
    "        # retrace steps\n",
    "        path = []\n",
    "        n = goal\n",
    "        while branch[n][0] != start:\n",
    "            path.append(branch[n][0])\n",
    "            n = branch[n][0]\n",
    "        path.append(branch[n][0])\n",
    "            \n",
    "    return path[::-1], goal"
   ]
  },
  {
   "cell_type": "code",
   "execution_count": 71,
   "metadata": {},
   "outputs": [
    {
     "name": "stdout",
     "output_type": "stream",
     "text": [
      "Found a frontier.\n"
     ]
    },
    {
     "data": {
      "image/png": "[encoded data removed]",
      "text/plain": [
       "<Figure size 432x288 with 1 Axes>"
      ]
     },
     "metadata": {
      "needs_background": "light"
     },
     "output_type": "display_data"
    }
   ],
   "source": [
    "# start_grid = (int(robot_grid_pose[0]), int(robot_grid_pose[1]))\n",
    "# choose random start location\n",
    "while True:\n",
    "    i,j = np.random.randint(0, grid.shape[0]), np.random.randint(0, grid.shape[1])\n",
    "    if grid[i,j] != 1 and grid[i,j] != -1:\n",
    "        start_grid = (i,j)\n",
    "        break\n",
    "\n",
    "path_grid, goal_grid = breadth_first(grid, start_grid)\n",
    "\n",
    "pp = np.array(path_grid)\n",
    "plt.imshow(grid, cmap='gray')\n",
    "plt.plot(start_grid[1], start_grid[0], 'v', markersize=10)\n",
    "plt.plot(goal_grid[1], goal_grid[0], 'ro', markersize=10)\n",
    "if len(path_grid)>0: plt.plot(pp[:, 1], pp[:, 0], 'g', linewidth=4)"
   ]
  }
 ],
 "metadata": {
  "kernelspec": {
   "display_name": "Python 3",
   "language": "python",
   "name": "python3"
  },
  "language_info": {
   "codemirror_mode": {
    "name": "ipython",
    "version": 3
   },
   "file_extension": ".py",
   "mimetype": "text/x-python",
   "name": "python",
   "nbconvert_exporter": "python",
   "pygments_lexer": "ipython3",
   "version": "3.6.9"
  }
 },
 "nbformat": 4,
 "nbformat_minor": 4
}
