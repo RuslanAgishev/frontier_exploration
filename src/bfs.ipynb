{
 "cells": [
  {
   "cell_type": "code",
   "execution_count": 36,
   "metadata": {},
   "outputs": [],
   "source": [
    "import numpy as np\n",
    "import matplotlib.pyplot as plt\n",
    "from grid import create_grid\n",
    "from planning import prune_path, smooth_path\n",
    "from planning import breadth_first_search\n",
    "\n",
    "np.set_printoptions(precision=2)"
   ]
  },
  {
   "cell_type": "code",
   "execution_count": 37,
   "metadata": {},
   "outputs": [],
   "source": [
    "# read data\n",
    "ind = np.random.randint(0, 19)\n",
    "\n",
    "elev_map = np.load('./data/elev_map{}.npy'.format(ind))\n",
    "dynamic_pc = np.load('./data/dynamic_pc{}.npy'.format(ind))\n",
    "robot_pose = np.load('./data/robot_pose{}.npy'.format(ind))\n",
    "x_min, y_min = np.min(elev_map[:, 0]), np.min(elev_map[:, 1])\n",
    "x_max, y_max = np.max(elev_map[:, 0]), np.max(elev_map[:, 1])\n",
    "\n",
    "map_res = 0.15\n",
    "margin = 0.3\n",
    "random_robot_pose = True"
   ]
  },
  {
   "cell_type": "code",
   "execution_count": 38,
   "metadata": {},
   "outputs": [
    {
     "data": {
      "text/plain": [
       "[<matplotlib.lines.Line2D at 0x7f6ab6ae2160>]"
      ]
     },
     "execution_count": 38,
     "metadata": {},
     "output_type": "execute_result"
    },
    {
     "data": {
      "image/png": "[encoded data removed]",
      "text/plain": [
       "<Figure size 432x288 with 1 Axes>"
      ]
     },
     "metadata": {
      "needs_background": "light"
     },
     "output_type": "display_data"
    }
   ],
   "source": [
    "# create grid\n",
    "grid, elev_grid = create_grid(elev_map, map_res=map_res, safety_distance=0.15, margin=margin)\n",
    "# robot location on a grid\n",
    "start_grid = (np.array([robot_pose[0], robot_pose[1]]) - [x_min, y_min]) // map_res\n",
    "# random robot start position\n",
    "if random_robot_pose:\n",
    "    while True:\n",
    "        x,y = np.random.random()*(x_max-x_min) + x_min, np.random.random()*(y_max-y_min) + y_min\n",
    "        i,j = (np.array([x, y]) - [x_min, y_min]) // map_res\n",
    "        i = int(i); j = int(j)\n",
    "        if grid[i,j] != 1 and grid[i,j] != 0.5:\n",
    "            start_grid = np.array([i,j])\n",
    "            robot_pose[:2] = x,y\n",
    "            break\n",
    "    \n",
    "plt.imshow(grid, cmap='gray')\n",
    "plt.plot(start_grid[1], start_grid[0], 'ro', color='g')"
   ]
  },
  {
   "cell_type": "code",
   "execution_count": 39,
   "metadata": {},
   "outputs": [
    {
     "name": "stdout",
     "output_type": "stream",
     "text": [
      "[0.  0.5 1. ]\n"
     ]
    }
   ],
   "source": [
    "print(np.unique(grid)) # read cell values: free, unexplored and obstacles"
   ]
  },
  {
   "cell_type": "code",
   "execution_count": 40,
   "metadata": {},
   "outputs": [
    {
     "name": "stdout",
     "output_type": "stream",
     "text": [
      "Found a frontier: (46, 44)\n",
      "(46, 44)\n"
     ]
    },
    {
     "data": {
      "image/png": "[encoded data removed]",
      "text/plain": [
       "<Figure size 432x288 with 1 Axes>"
      ]
     },
     "metadata": {
      "needs_background": "light"
     },
     "output_type": "display_data"
    }
   ],
   "source": [
    "# BFS planning to nearest frontier\n",
    "path_grid, goal_grid = breadth_first_search(grid, (start_grid).astype(int).tolist())\n",
    "\n",
    "plt.imshow(grid, cmap='gray')\n",
    "plt.plot(start_grid[1], start_grid[0], 'v', markersize=10)\n",
    "plt.plot(goal_grid[1], goal_grid[0], 'ro', markersize=10)\n",
    "\n",
    "pp = np.array(path_grid)\n",
    "if len(path_grid)>0: plt.plot(pp[:, 1], pp[:, 0], 'g', linewidth=4)"
   ]
  },
  {
   "cell_type": "code",
   "execution_count": 41,
   "metadata": {},
   "outputs": [],
   "source": [
    "# transform path to robot coordinates\n",
    "path_map = [(np.array(point)*map_res+[x_min, y_min]).tolist()+[elev_grid[point]] for point in path_grid]\n",
    "path_map = np.array(path_map)"
   ]
  },
  {
   "cell_type": "code",
   "execution_count": 42,
   "metadata": {},
   "outputs": [
    {
     "data": {
      "image/png": "[encoded data removed]",
      "text/plain": [
       "<Figure size 576x504 with 1 Axes>"
      ]
     },
     "metadata": {
      "needs_background": "light"
     },
     "output_type": "display_data"
    }
   ],
   "source": [
    "# visualize everithing\n",
    "X = elev_map[:,0]; Y = elev_map[:,1]; Z = elev_map[:,2]\n",
    "\n",
    "plt.figure(figsize=(int(np.max(X)-np.min(X)), int(np.max(Y)-np.min(Y))))\n",
    "plt.plot(X[Z<=margin], Y[Z<=margin], 's', color='green', label='traversable', markersize=10)\n",
    "plt.plot(X[Z>margin], Y[Z>margin], 's', color='red', label='obstacles', markersize=10)\n",
    "plt.plot(robot_pose[0], robot_pose[1], 'v', color='k', markersize=10, label='robot')\n",
    "path_map = np.array(path_map)\n",
    "plt.plot(path_map[:,0], path_map[:,1], color='b', linewidth=4, label='path')\n",
    "\n",
    "plt.title('Height margin = %.2f'%margin)\n",
    "plt.xlabel('X')\n",
    "plt.ylabel('Y')\n",
    "plt.legend()\n",
    "plt.grid()\n",
    "plt.show()"
   ]
  }
 ],
 "metadata": {
  "kernelspec": {
   "display_name": "Python 3",
   "language": "python",
   "name": "python3"
  },
  "language_info": {
   "codemirror_mode": {
    "name": "ipython",
    "version": 3
   },
   "file_extension": ".py",
   "mimetype": "text/x-python",
   "name": "python",
   "nbconvert_exporter": "python",
   "pygments_lexer": "ipython3",
   "version": "3.6.9"
  }
 },
 "nbformat": 4,
 "nbformat_minor": 4
}
